{
 "cells": [
  {
   "cell_type": "code",
   "execution_count": null,
   "metadata": {},
   "outputs": [],
   "source": [
    "import numpy as np"
   ]
  },
  {
   "cell_type": "code",
   "execution_count": 1,
   "metadata": {},
   "outputs": [
    {
     "ename": "SyntaxError",
     "evalue": "invalid syntax (<ipython-input-1-cc8f72eee6dd>, line 7)",
     "output_type": "error",
     "traceback": [
      "\u001b[0;36m  File \u001b[0;32m\"<ipython-input-1-cc8f72eee6dd>\"\u001b[0;36m, line \u001b[0;32m7\u001b[0m\n\u001b[0;31m    else.\u001b[0m\n\u001b[0m        ^\u001b[0m\n\u001b[0;31mSyntaxError\u001b[0m\u001b[0;31m:\u001b[0m invalid syntax\n"
     ]
    }
   ],
   "source": [
    "class Fractal2D:\n",
    "\n",
    "    def __init__(self, f, deriv=None):\n",
    "        self.f = f\n",
    "        if deriv:\n",
    "            self.deriv = deriv\n",
    "        else:\n",
    "            self.deriv = self.jacobian\n",
    "    \n",
    "    def newtons_method(self, x, tol=1e-6, maxiter=20):\n",
    "        for _ in range(maxiter):\n",
    "            dx = np.linalg.solve(self.deriv(x), -self.f(x))\n",
    "            x = x + dx\n",
    "            if np.linalg.norm(self.f(x)) < tol:\n",
    "                return x\n",
    "        return None\n",
    "    \n",
    "    def simplified_newtons_method(self, x0, tol=1e-6, maxiter=100):\n",
    "        pass\n",
    "    \n",
    "    def find_zero(self, init_guess, tol=1e-6, min_dist=1e-3, simplified=False):\n",
    "        pass\n",
    "        \n",
    "    def get_A(self, N, a, b, c, d, simplified=False):\n",
    "        pass\n",
    "    \n",
    "    def plot(self, N, a, b, c, d, simplified=False):\n",
    "        pass\n",
    "    \n",
    "    def jacobian(self, x, step_size=1e-8):\n",
    "        pass"
   ]
  },
  {
   "cell_type": "code",
   "execution_count": null,
   "metadata": {},
   "outputs": [],
   "source": []
  }
 ],
 "metadata": {
  "kernelspec": {
   "display_name": "Python 3",
   "language": "python",
   "name": "python3"
  },
  "language_info": {
   "codemirror_mode": {
    "name": "ipython",
    "version": 3
   },
   "file_extension": ".py",
   "mimetype": "text/x-python",
   "name": "python",
   "nbconvert_exporter": "python",
   "pygments_lexer": "ipython3",
   "version": "3.6.9"
  }
 },
 "nbformat": 4,
 "nbformat_minor": 4
}
