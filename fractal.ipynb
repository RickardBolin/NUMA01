class Fractal2D:

    def __init__(self, f, deriv=None):
        pass
    
    def newtons_method(self, x0, tol=1e-6, maxiter=20):
        pass    
        
    def simplified_newtons_method(self, x0, tol=1e-6, maxiter=100):
        pass
    
    def find_zero(self, init_guess, tol=1e-6, min_dist=1e-3, simplified=False):
        pass
        
    def get_A(self, N, a, b, c, d, simplified=False):
        pass
        
    def plot(self, N, a, b, c, d, simplified=False):
        pass
    
    def jacobian(self, x, step_size=1e-8):
        pass
