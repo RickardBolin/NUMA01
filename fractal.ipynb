{
 "cells": [
  {
   "cell_type": "code",
   "execution_count": null,
   "metadata": {},
   "outputs": [],
   "source": [
    "class Fractal2D:\n",
    "\n",
    "    def __init__(self, f, deriv=None):\n",
    "        pass\n",
    "    \n",
    "    def newtons_method(self, x0, tol=1e-6, maxiter=20):\n",
    "        pass\n",
    "    \n",
    "    def simplified_newtons_method(self, x0, tol=1e-6, maxiter=100):\n",
    "        pass\n",
    "    \n",
    "    def find_zero(self, init_guess, tol=1e-6, min_dist=1e-3, simplified=False):\n",
    "        pass\n",
    "        \n",
    "    def get_A(self, N, a, b, c, d, simplified=False):\n",
    "        pass\n",
    "    \n",
    "    def plot(self, N, a, b, c, d, simplified=False):\n",
    "        pass\n",
    "    \n",
    "    def jacobian(self, x, step_size=1e-8):\n",
    "        pass"
   ]
  }
 ],
 "metadata": {
  "kernelspec": {
   "display_name": "Python 3",
   "language": "python",
   "name": "python3"
  },
  "language_info": {
   "codemirror_mode": {
    "name": "ipython",
    "version": 3
   },
   "file_extension": ".py",
   "mimetype": "text/x-python",
   "name": "python",
   "nbconvert_exporter": "python",
   "pygments_lexer": "ipython3",
   "version": "3.6.9"
  }
 },
 "nbformat": 4,
 "nbformat_minor": 4
}
